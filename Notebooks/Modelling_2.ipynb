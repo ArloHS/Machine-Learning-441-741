{
 "cells": [
  {
   "cell_type": "code",
   "execution_count": 21,
   "id": "51bf1e9a",
   "metadata": {},
   "outputs": [],
   "source": [
    "from sklearn.model_selection import GridSearchCV, cross_val_score\n",
    "from sklearn.neighbors import KNeighborsClassifier\n",
    "from sklearn.metrics import accuracy_score\n",
    "from sklearn.model_selection import train_test_split\n",
    "import pandas as pd\n",
    "import matplotlib.pyplot as plt\n",
    "import numpy as np"
   ]
  },
  {
   "cell_type": "code",
   "execution_count": 4,
   "id": "acc31b04",
   "metadata": {},
   "outputs": [
    {
     "data": {
      "text/plain": [
       "(24778, 24)"
      ]
     },
     "execution_count": 4,
     "metadata": {},
     "output_type": "execute_result"
    }
   ],
   "source": [
    "file_path = 'PROCESSED_DryBeanDataSet.xlsx'\n",
    "df = pd.read_excel(file_path)\n",
    "df.shape"
   ]
  },
  {
   "cell_type": "code",
   "execution_count": 5,
   "id": "3c35e2f4",
   "metadata": {},
   "outputs": [],
   "source": [
    "# Assuming 'Class' is the target variable\n",
    "X = df.drop('Class', axis=1)\n",
    "y = df['Class']\n",
    "\n",
    "# Split into train and test sets\n",
    "X_train, X_test, y_train, y_test = train_test_split(X, y, test_size=0.2, random_state=42)\n"
   ]
  },
  {
   "cell_type": "code",
   "execution_count": 6,
   "id": "075c635c",
   "metadata": {},
   "outputs": [],
   "source": [
    "# Define the KNN model\n",
    "knn = KNeighborsClassifier()\n",
    "\n",
    "# Define the parameter grid for k values to try\n",
    "param_grid = {'n_neighbors': range(1, 31)}  # k values from 1 to 30\n",
    "\n",
    "# Perform Grid Search with 5-fold Cross-Validation\n",
    "grid_search = GridSearchCV(knn, param_grid, cv=5, scoring='accuracy', n_jobs=-1)"
   ]
  },
  {
   "cell_type": "code",
   "execution_count": 7,
   "id": "4682b9e9",
   "metadata": {},
   "outputs": [
    {
     "data": {
      "text/plain": [
       "GridSearchCV(cv=5, estimator=KNeighborsClassifier(), n_jobs=-1,\n",
       "             param_grid={'n_neighbors': range(1, 31)}, scoring='accuracy')"
      ]
     },
     "execution_count": 7,
     "metadata": {},
     "output_type": "execute_result"
    }
   ],
   "source": [
    "# Fit the model to the training data\n",
    "grid_search.fit(X_train, y_train)"
   ]
  },
  {
   "cell_type": "code",
   "execution_count": 8,
   "id": "92b1e483",
   "metadata": {},
   "outputs": [
    {
     "name": "stdout",
     "output_type": "stream",
     "text": [
      "Optimal k value: 1\n",
      "Best Cross-Validation Accuracy: 0.9929\n"
     ]
    }
   ],
   "source": [
    "# Get the best k value and corresponding accuracy score\n",
    "best_k = grid_search.best_params_['n_neighbors']\n",
    "best_score = grid_search.best_score_\n",
    "\n",
    "print(f\"Optimal k value: {best_k}\")\n",
    "print(f\"Best Cross-Validation Accuracy: {best_score:.4f}\")"
   ]
  },
  {
   "cell_type": "code",
   "execution_count": 9,
   "id": "6d412ae1",
   "metadata": {},
   "outputs": [
    {
     "name": "stdout",
     "output_type": "stream",
     "text": [
      "Test Set Accuracy with Optimal k: 0.9925\n"
     ]
    }
   ],
   "source": [
    "# Evaluate the model with the best k on the test set\n",
    "best_knn = grid_search.best_estimator_\n",
    "y_pred = best_knn.predict(X_test)\n",
    "test_accuracy = accuracy_score(y_test, y_pred)\n",
    "\n",
    "print(f\"Test Set Accuracy with Optimal k: {test_accuracy:.4f}\")"
   ]
  },
  {
   "cell_type": "code",
   "execution_count": 19,
   "id": "4268260b",
   "metadata": {},
   "outputs": [],
   "source": [
    "# Assuming X_train and y_train are already defined from previous code\n",
    "\n",
    "# Range of k values to test\n",
    "k_range = range(1, 31)\n",
    "cv_scores = []  # List to hold cross-validation scores for each k\n",
    "\n",
    "# Perform 5-fold cross-validation for each k value\n",
    "for k in k_range:\n",
    "    knn = KNeighborsClassifier(n_neighbors=k)\n",
    "    scores = cross_val_score(knn, X_train, y_train, cv=5, scoring='accuracy')\n",
    "    cv_scores.append(scores.mean())"
   ]
  },
  {
   "cell_type": "code",
   "execution_count": 22,
   "id": "d5eeaeb1",
   "metadata": {},
   "outputs": [
    {
     "data": {
      "image/png": "[encoded data removed]",
      "text/plain": [
       "<Figure size 720x432 with 1 Axes>"
      ]
     },
     "metadata": {
      "needs_background": "light"
     },
     "output_type": "display_data"
    }
   ],
   "source": [
    "# Plotting the results\n",
    "plt.figure(figsize=(10, 6))\n",
    "plt.plot(k_range, cv_scores, marker='o')\n",
    "plt.xlabel('Value of K for KNN')\n",
    "plt.ylabel('Cross-Validation Accuracy')\n",
    "plt.title('Cross-Validation Accuracy vs K Value')\n",
    "plt.xticks(np.arange(1, 31, step=1))\n",
    "plt.grid(True)\n",
    "plt.show()"
   ]
  },
  {
   "cell_type": "code",
   "execution_count": 17,
   "id": "d4db5ac5",
   "metadata": {},
   "outputs": [
    {
     "name": "stdout",
     "output_type": "stream",
     "text": [
      "            Feature  MI Score\n",
      "4         Perimeter  1.231112\n",
      "9        ConvexArea  1.219945\n",
      "3              Area  1.217882\n",
      "11    EquivDiameter  1.217166\n",
      "5   MajorAxisLength  1.172411\n",
      "6   MinorAxisLength  1.130377\n",
      "16     ShapeFactor1  1.130237\n",
      "17     ShapeFactor2  1.071282\n",
      "18     ShapeFactor3  0.847617\n",
      "15      Compactness  0.842976\n",
      "8      Eccentricity  0.833015\n",
      "7      AspectRation  0.832543\n",
      "14        roundness  0.827599\n",
      "0      Colour_brown  0.680692\n",
      "20     ShapeFactor5  0.423065\n",
      "2      Colour_white  0.412181\n",
      "1      Colour_green  0.411252\n",
      "13         Solidity  0.260644\n",
      "12           Extent  0.221515\n",
      "19     ShapeFactor4  0.024468\n",
      "21     ShapeFactor6  0.013496\n",
      "22       Sort order  0.004540\n",
      "10     Constantness  0.000000\n"
     ]
    }
   ],
   "source": [
    "from sklearn.feature_selection import mutual_info_classif\n",
    "import pandas as pd\n",
    "\n",
    "# Assuming X and y are your features and target variable\n",
    "mi = mutual_info_classif(X, y)\n",
    "\n",
    "# Create a DataFrame to see the feature ranking\n",
    "mi_df = pd.DataFrame({'Feature': X.columns, 'MI Score': mi})\n",
    "mi_df = mi_df.sort_values(by='MI Score', ascending=False)\n",
    "\n",
    "print(mi_df)"
   ]
  },
  {
   "cell_type": "code",
   "execution_count": 35,
   "id": "34b6d3a3",
   "metadata": {},
   "outputs": [
    {
     "name": "stdout",
     "output_type": "stream",
     "text": [
      "Selected Features: Index(['Colour_brown', 'Colour_green', 'Colour_white', 'Area',\n",
      "       'MinorAxisLength', 'ConvexArea', 'Solidity', 'roundness', 'Compactness',\n",
      "       'ShapeFactor1', 'ShapeFactor5', 'ShapeFactor6'],\n",
      "      dtype='object')\n"
     ]
    }
   ],
   "source": [
    "from sklearn.feature_selection import SequentialFeatureSelector\n",
    "from sklearn.neighbors import KNeighborsClassifier\n",
    "from sklearn.model_selection import train_test_split\n",
    "\n",
    "# Define the KNN model\n",
    "knn = KNeighborsClassifier(n_neighbors=5)\n",
    "\n",
    "# Perform forward selection\n",
    "sfs = SequentialFeatureSelector(knn, n_features_to_select=12, direction='backward', cv=5)\n",
    "sfs.fit(X_train, y_train)\n",
    "\n",
    "# Get the selected features\n",
    "selected_features = X_train.columns[sfs.get_support()]\n",
    "\n",
    "print(f\"Selected Features: {selected_features}\")"
   ]
  },
  {
   "cell_type": "code",
   "execution_count": 23,
   "id": "02f5b305",
   "metadata": {},
   "outputs": [
    {
     "name": "stdout",
     "output_type": "stream",
     "text": [
      "            Feature  Coefficient\n",
      "16     ShapeFactor1     7.935534\n",
      "14        roundness     7.412893\n",
      "2      Colour_white     2.968906\n",
      "1      Colour_green     2.659241\n",
      "0      Colour_brown     2.361165\n",
      "13         Solidity     0.986364\n",
      "21     ShapeFactor6    -0.000000\n",
      "19     ShapeFactor4     0.000000\n",
      "18     ShapeFactor3    -0.000000\n",
      "17     ShapeFactor2     0.000000\n",
      "15      Compactness    -0.000000\n",
      "11    EquivDiameter    -0.000000\n",
      "10     Constantness    -0.000000\n",
      "9        ConvexArea    -0.000000\n",
      "8      Eccentricity     0.000000\n",
      "7      AspectRation     0.000000\n",
      "6   MinorAxisLength    -0.000000\n",
      "5   MajorAxisLength     0.000000\n",
      "4         Perimeter    -0.000000\n",
      "3              Area    -0.000000\n",
      "22       Sort order    -0.000000\n",
      "12           Extent    -0.101523\n",
      "20     ShapeFactor5    -0.953241\n"
     ]
    }
   ],
   "source": [
    "from sklearn.linear_model import Lasso\n",
    "\n",
    "# Define the Lasso model\n",
    "lasso = Lasso(alpha=0.01)\n",
    "lasso.fit(X_train, y_train)\n",
    "\n",
    "# Get the coefficients\n",
    "coefficients = lasso.coef_\n",
    "\n",
    "# Create a DataFrame to see feature coefficients\n",
    "coefficients_df = pd.DataFrame({'Feature': X_train.columns, 'Coefficient': coefficients})\n",
    "coefficients_df = coefficients_df.sort_values(by='Coefficient', ascending=False)\n",
    "print(coefficients_df)"
   ]
  },
  {
   "cell_type": "code",
   "execution_count": 27,
   "id": "ad249f2c",
   "metadata": {},
   "outputs": [
    {
     "data": {
      "text/html": [
       "<div>\n",
       "<style scoped>\n",
       "    .dataframe tbody tr th:only-of-type {\n",
       "        vertical-align: middle;\n",
       "    }\n",
       "\n",
       "    .dataframe tbody tr th {\n",
       "        vertical-align: top;\n",
       "    }\n",
       "\n",
       "    .dataframe thead th {\n",
       "        text-align: right;\n",
       "    }\n",
       "</style>\n",
       "<table border=\"1\" class=\"dataframe\">\n",
       "  <thead>\n",
       "    <tr style=\"text-align: right;\">\n",
       "      <th></th>\n",
       "      <th>Feature</th>\n",
       "      <th>Importance</th>\n",
       "    </tr>\n",
       "  </thead>\n",
       "  <tbody>\n",
       "    <tr>\n",
       "      <th>0</th>\n",
       "      <td>Colour_brown</td>\n",
       "      <td>0.104050</td>\n",
       "    </tr>\n",
       "    <tr>\n",
       "      <th>1</th>\n",
       "      <td>Colour_green</td>\n",
       "      <td>0.087521</td>\n",
       "    </tr>\n",
       "    <tr>\n",
       "      <th>2</th>\n",
       "      <td>Colour_white</td>\n",
       "      <td>0.078634</td>\n",
       "    </tr>\n",
       "    <tr>\n",
       "      <th>3</th>\n",
       "      <td>Area</td>\n",
       "      <td>0.048477</td>\n",
       "    </tr>\n",
       "    <tr>\n",
       "      <th>4</th>\n",
       "      <td>Perimeter</td>\n",
       "      <td>0.078809</td>\n",
       "    </tr>\n",
       "    <tr>\n",
       "      <th>5</th>\n",
       "      <td>MajorAxisLength</td>\n",
       "      <td>0.058007</td>\n",
       "    </tr>\n",
       "    <tr>\n",
       "      <th>6</th>\n",
       "      <td>MinorAxisLength</td>\n",
       "      <td>0.058350</td>\n",
       "    </tr>\n",
       "    <tr>\n",
       "      <th>7</th>\n",
       "      <td>AspectRation</td>\n",
       "      <td>0.037154</td>\n",
       "    </tr>\n",
       "    <tr>\n",
       "      <th>8</th>\n",
       "      <td>Eccentricity</td>\n",
       "      <td>0.038051</td>\n",
       "    </tr>\n",
       "    <tr>\n",
       "      <th>9</th>\n",
       "      <td>ConvexArea</td>\n",
       "      <td>0.054151</td>\n",
       "    </tr>\n",
       "    <tr>\n",
       "      <th>10</th>\n",
       "      <td>Constantness</td>\n",
       "      <td>0.000202</td>\n",
       "    </tr>\n",
       "    <tr>\n",
       "      <th>11</th>\n",
       "      <td>EquivDiameter</td>\n",
       "      <td>0.054334</td>\n",
       "    </tr>\n",
       "    <tr>\n",
       "      <th>12</th>\n",
       "      <td>Extent</td>\n",
       "      <td>0.003149</td>\n",
       "    </tr>\n",
       "    <tr>\n",
       "      <th>13</th>\n",
       "      <td>Solidity</td>\n",
       "      <td>0.011344</td>\n",
       "    </tr>\n",
       "    <tr>\n",
       "      <th>14</th>\n",
       "      <td>roundness</td>\n",
       "      <td>0.042323</td>\n",
       "    </tr>\n",
       "    <tr>\n",
       "      <th>15</th>\n",
       "      <td>Compactness</td>\n",
       "      <td>0.046221</td>\n",
       "    </tr>\n",
       "    <tr>\n",
       "      <th>16</th>\n",
       "      <td>ShapeFactor1</td>\n",
       "      <td>0.085319</td>\n",
       "    </tr>\n",
       "    <tr>\n",
       "      <th>17</th>\n",
       "      <td>ShapeFactor2</td>\n",
       "      <td>0.036176</td>\n",
       "    </tr>\n",
       "    <tr>\n",
       "      <th>18</th>\n",
       "      <td>ShapeFactor3</td>\n",
       "      <td>0.046534</td>\n",
       "    </tr>\n",
       "    <tr>\n",
       "      <th>19</th>\n",
       "      <td>ShapeFactor4</td>\n",
       "      <td>0.002144</td>\n",
       "    </tr>\n",
       "    <tr>\n",
       "      <th>20</th>\n",
       "      <td>ShapeFactor5</td>\n",
       "      <td>0.025167</td>\n",
       "    </tr>\n",
       "    <tr>\n",
       "      <th>21</th>\n",
       "      <td>ShapeFactor6</td>\n",
       "      <td>0.002050</td>\n",
       "    </tr>\n",
       "    <tr>\n",
       "      <th>22</th>\n",
       "      <td>Sort order</td>\n",
       "      <td>0.001836</td>\n",
       "    </tr>\n",
       "  </tbody>\n",
       "</table>\n",
       "</div>"
      ],
      "text/plain": [
       "            Feature  Importance\n",
       "0      Colour_brown    0.104050\n",
       "1      Colour_green    0.087521\n",
       "2      Colour_white    0.078634\n",
       "3              Area    0.048477\n",
       "4         Perimeter    0.078809\n",
       "5   MajorAxisLength    0.058007\n",
       "6   MinorAxisLength    0.058350\n",
       "7      AspectRation    0.037154\n",
       "8      Eccentricity    0.038051\n",
       "9        ConvexArea    0.054151\n",
       "10     Constantness    0.000202\n",
       "11    EquivDiameter    0.054334\n",
       "12           Extent    0.003149\n",
       "13         Solidity    0.011344\n",
       "14        roundness    0.042323\n",
       "15      Compactness    0.046221\n",
       "16     ShapeFactor1    0.085319\n",
       "17     ShapeFactor2    0.036176\n",
       "18     ShapeFactor3    0.046534\n",
       "19     ShapeFactor4    0.002144\n",
       "20     ShapeFactor5    0.025167\n",
       "21     ShapeFactor6    0.002050\n",
       "22       Sort order    0.001836"
      ]
     },
     "execution_count": 27,
     "metadata": {},
     "output_type": "execute_result"
    }
   ],
   "source": [
    "from sklearn.ensemble import RandomForestClassifier\n",
    "\n",
    "rf = RandomForestClassifier()\n",
    "rf.fit(X_train, y_train)\n",
    "\n",
    "importances = rf.feature_importances_\n",
    "importance_df = pd.DataFrame({'Feature': X_train.columns, 'Importance': importances})\n",
    "importance_df"
   ]
  },
  {
   "cell_type": "code",
   "execution_count": 28,
   "id": "ca66859a",
   "metadata": {},
   "outputs": [
    {
     "name": "stdout",
     "output_type": "stream",
     "text": [
      "            Feature  Importance\n",
      "0      Colour_brown    0.104050\n",
      "1      Colour_green    0.087521\n",
      "16     ShapeFactor1    0.085319\n",
      "4         Perimeter    0.078809\n",
      "2      Colour_white    0.078634\n",
      "6   MinorAxisLength    0.058350\n",
      "5   MajorAxisLength    0.058007\n",
      "11    EquivDiameter    0.054334\n",
      "9        ConvexArea    0.054151\n",
      "3              Area    0.048477\n",
      "18     ShapeFactor3    0.046534\n",
      "15      Compactness    0.046221\n",
      "14        roundness    0.042323\n",
      "8      Eccentricity    0.038051\n",
      "7      AspectRation    0.037154\n",
      "17     ShapeFactor2    0.036176\n",
      "20     ShapeFactor5    0.025167\n",
      "13         Solidity    0.011344\n",
      "12           Extent    0.003149\n",
      "19     ShapeFactor4    0.002144\n",
      "21     ShapeFactor6    0.002050\n",
      "22       Sort order    0.001836\n",
      "10     Constantness    0.000202\n"
     ]
    },
    {
     "data": {
      "image/png": "[encoded data removed]",
      "text/plain": [
       "<Figure size 864x576 with 1 Axes>"
      ]
     },
     "metadata": {
      "needs_background": "light"
     },
     "output_type": "display_data"
    },
    {
     "name": "stdout",
     "output_type": "stream",
     "text": [
      "Top 10 Features:\n",
      "            Feature  Importance\n",
      "0      Colour_brown    0.104050\n",
      "1      Colour_green    0.087521\n",
      "16     ShapeFactor1    0.085319\n",
      "4         Perimeter    0.078809\n",
      "2      Colour_white    0.078634\n",
      "6   MinorAxisLength    0.058350\n",
      "5   MajorAxisLength    0.058007\n",
      "11    EquivDiameter    0.054334\n",
      "9        ConvexArea    0.054151\n",
      "3              Area    0.048477\n"
     ]
    }
   ],
   "source": [
    "# Sort features by importance\n",
    "importance_df = importance_df.sort_values(by='Importance', ascending=False)\n",
    "\n",
    "# Print sorted features\n",
    "print(importance_df)\n",
    "\n",
    "# Plot feature importances\n",
    "plt.figure(figsize=(12, 8))\n",
    "plt.barh(importance_df['Feature'], importance_df['Importance'])\n",
    "plt.xlabel('Importance')\n",
    "plt.title('Feature Importance')\n",
    "plt.gca().invert_yaxis()  # Invert y-axis to have the most important features at the top\n",
    "plt.show()\n",
    "\n",
    "# Determine a threshold or number of top features to select\n",
    "# Example: Select top 10 features\n",
    "num_top_features = 10\n",
    "top_features = importance_df.head(num_top_features)\n",
    "\n",
    "print(f\"Top {num_top_features} Features:\")\n",
    "print(top_features)"
   ]
  },
  {
   "cell_type": "code",
   "execution_count": 30,
   "id": "9abc2057",
   "metadata": {},
   "outputs": [
    {
     "name": "stdout",
     "output_type": "stream",
     "text": [
      "Features selected to reach 90.0% of total importance:\n",
      "         Feature  Importance\n",
      "7   AspectRation    0.037154\n",
      "17  ShapeFactor2    0.036176\n",
      "20  ShapeFactor5    0.025167\n",
      "13      Solidity    0.011344\n",
      "12        Extent    0.003149\n",
      "19  ShapeFactor4    0.002144\n",
      "21  ShapeFactor6    0.002050\n",
      "22    Sort order    0.001836\n",
      "10  Constantness    0.000202\n"
     ]
    },
    {
     "data": {
      "image/png": "[encoded data removed]",
      "text/plain": [
       "<Figure size 864x576 with 1 Axes>"
      ]
     },
     "metadata": {
      "needs_background": "light"
     },
     "output_type": "display_data"
    }
   ],
   "source": [
    "# Sort features by importance\n",
    "importance_df = importance_df.sort_values(by='Importance', ascending=False)\n",
    "\n",
    "# Calculate cumulative importance\n",
    "importance_df['Cumulative Importance'] = importance_df['Importance'].cumsum()\n",
    "\n",
    "# Determine total importance\n",
    "total_importance = importance_df['Importance'].sum()\n",
    "\n",
    "# Set the relative threshold (e.g., 90%)\n",
    "relative_threshold = 0.90\n",
    "threshold_value = total_importance * relative_threshold\n",
    "\n",
    "# Find the number of features that meet the threshold\n",
    "selected_features_df = importance_df[importance_df['Cumulative Importance'] <= threshold_value]\n",
    "\n",
    "# Add features that exactly meet or exceed the threshold\n",
    "selected_features_df = importance_df[importance_df['Cumulative Importance'] >= threshold_value]\n",
    "\n",
    "# Print selected features\n",
    "print(f\"Features selected to reach {relative_threshold*100}% of total importance:\")\n",
    "print(selected_features_df[['Feature', 'Importance']])\n",
    "\n",
    "# Plot cumulative importance\n",
    "plt.figure(figsize=(12, 8))\n",
    "plt.plot(importance_df['Cumulative Importance'], marker='o', linestyle='--')\n",
    "plt.axhline(y=threshold_value, color='r', linestyle='-', label='90% Threshold')\n",
    "plt.xlabel('Number of Features')\n",
    "plt.ylabel('Cumulative Importance')\n",
    "plt.title('Cumulative Feature Importance')\n",
    "plt.legend()\n",
    "plt.grid(True)\n",
    "plt.show()"
   ]
  },
  {
   "cell_type": "code",
   "execution_count": 33,
   "id": "cbf3c58a",
   "metadata": {},
   "outputs": [
    {
     "name": "stdout",
     "output_type": "stream",
     "text": [
      "Model Accuracy: 0.9865\n",
      "Number of Principal Components Used: 10\n",
      "Feature Contributions to Principal Components:\n",
      "Extent             2.084202\n",
      "Solidity           1.926423\n",
      "ShapeFactor4       1.904925\n",
      "ShapeFactor5       1.818002\n",
      "roundness          1.654255\n",
      "ShapeFactor6       1.652054\n",
      "Colour_brown       1.597285\n",
      "Sort order         1.577216\n",
      "Colour_white       1.517347\n",
      "Constantness       1.512511\n",
      "Colour_green       1.419541\n",
      "Eccentricity       0.974016\n",
      "AspectRation       0.888421\n",
      "ShapeFactor3       0.869641\n",
      "Compactness        0.848132\n",
      "ShapeFactor1       0.837793\n",
      "MinorAxisLength    0.758087\n",
      "EquivDiameter      0.725788\n",
      "Perimeter          0.717102\n",
      "Area               0.696408\n",
      "ConvexArea         0.694006\n",
      "ShapeFactor2       0.685276\n",
      "MajorAxisLength    0.684866\n",
      "dtype: float64\n"
     ]
    },
    {
     "data": {
      "image/png": "[encoded data removed]",
      "text/plain": [
       "<Figure size 720x432 with 1 Axes>"
      ]
     },
     "metadata": {
      "needs_background": "light"
     },
     "output_type": "display_data"
    }
   ],
   "source": [
    "from sklearn.decomposition import PCA\n",
    "from sklearn.preprocessing import StandardScaler\n",
    "from sklearn.pipeline import Pipeline\n",
    "from sklearn.neighbors import KNeighborsClassifier\n",
    "from sklearn.model_selection import train_test_split\n",
    "from sklearn.metrics import accuracy_score\n",
    "import pandas as pd\n",
    "import numpy as np\n",
    "\n",
    "# Assuming X and y are your features and target variables\n",
    "# Assuming feature_names is a list of your original feature names\n",
    "\n",
    "# Split the data\n",
    "X_train, X_test, y_train, y_test = train_test_split(X, y, test_size=0.2, random_state=42)\n",
    "\n",
    "# Standardize the features\n",
    "scaler = StandardScaler()\n",
    "X_train_scaled = scaler.fit_transform(X_train)\n",
    "X_test_scaled = scaler.transform(X_test)\n",
    "\n",
    "# Apply PCA\n",
    "pca = PCA(n_components=0.95)  # Choose components that explain 90% of the variance\n",
    "X_train_pca = pca.fit_transform(X_train_scaled)\n",
    "X_test_pca = pca.transform(X_test_scaled)\n",
    "\n",
    "# Train a KNN model\n",
    "knn = KNeighborsClassifier(n_neighbors=5)\n",
    "knn.fit(X_train_pca, y_train)\n",
    "\n",
    "# Make predictions and evaluate the model\n",
    "y_pred = knn.predict(X_test_pca)\n",
    "accuracy = accuracy_score(y_test, y_pred)\n",
    "\n",
    "print(f\"Model Accuracy: {accuracy:.4f}\")\n",
    "print(f\"Number of Principal Components Used: {pca.n_components_}\")\n",
    "\n",
    "# Get feature contributions\n",
    "components_df = pd.DataFrame(pca.components_, columns=X.columns)\n",
    "contributions = components_df.abs().sum(axis=0).sort_values(ascending=False)\n",
    "\n",
    "print(\"Feature Contributions to Principal Components:\")\n",
    "print(contributions)\n",
    "\n",
    "# Optional: Visualize explained variance\n",
    "import matplotlib.pyplot as plt\n",
    "\n",
    "explained_variance = pca.explained_variance_ratio_\n",
    "plt.figure(figsize=(10, 6))\n",
    "plt.plot(range(1, len(explained_variance) + 1), explained_variance, marker='o', linestyle='--')\n",
    "plt.xlabel('Number of Principal Components')\n",
    "plt.ylabel('Explained Variance Ratio')\n",
    "plt.title('PCA Explained Variance')\n",
    "plt.grid(True)\n",
    "plt.show()\n"
   ]
  },
  {
   "cell_type": "code",
   "execution_count": null,
   "id": "16dd0143",
   "metadata": {},
   "outputs": [],
   "source": []
  }
 ],
 "metadata": {
  "kernelspec": {
   "display_name": "Python 3 (ipykernel)",
   "language": "python",
   "name": "python3"
  },
  "language_info": {
   "codemirror_mode": {
    "name": "ipython",
    "version": 3
   },
   "file_extension": ".py",
   "mimetype": "text/x-python",
   "name": "python",
   "nbconvert_exporter": "python",
   "pygments_lexer": "ipython3",
   "version": "3.9.12"
  }
 },
 "nbformat": 4,
 "nbformat_minor": 5
}
